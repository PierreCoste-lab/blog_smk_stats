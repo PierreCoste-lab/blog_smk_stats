{
 "cells": [
  {
   "cell_type": "markdown",
   "metadata": {},
   "source": [
    "## Présentation du projet"
   ]
  },
  {
   "cell_type": "markdown",
   "metadata": {},
   "source": [
    "L'objectif du projet consiste à analyser des données issues des championnats du monde de Super Mario Kart durant la période 2012-2019, sur le mode de jeu Time Trial."
   ]
  },
  {
   "cell_type": "markdown",
   "metadata": {},
   "source": [
    "Les analyses suivantes seront effectuées:\n",
    "- Distribution des temps globaux réalisés aux championnats du monde de Super Mario Kart entre 2012 et 2019.\n",
    "- Distribution plus détaillée (Top 16 Group Stage, Top 8 Group Stage,Final Phase -> distribution globale et distribution par circuit analysé).\n",
    "- Focus sur la position des participants durant les différentes Phases (Group Stage, Top 16, Quarterfinals, Semifinals, Match for 3rd Place, Final).\n",
    "- Analyse de la représentation par pays/continents."
   ]
  },
  {
   "cell_type": "markdown",
   "metadata": {},
   "source": [
    "Les différents outils informatiques qui seront utilisés ici sont les suivants:\n",
    "- Python\n",
    "- Pandas Dataframes\n",
    "- Numpy\n",
    "- Matplotlib\n",
    "- Seaborn\n",
    "- Datetime"
   ]
  },
  {
   "cell_type": "code",
   "execution_count": null,
   "metadata": {},
   "outputs": [],
   "source": []
  },
  {
   "cell_type": "code",
   "execution_count": null,
   "metadata": {},
   "outputs": [],
   "source": []
  }
 ],
 "metadata": {
  "kernelspec": {
   "display_name": "Python 3",
   "language": "python",
   "name": "python3"
  },
  "language_info": {
   "codemirror_mode": {
    "name": "ipython",
    "version": 3
   },
   "file_extension": ".py",
   "mimetype": "text/x-python",
   "name": "python",
   "nbconvert_exporter": "python",
   "pygments_lexer": "ipython3",
   "version": "3.8.3"
  }
 },
 "nbformat": 4,
 "nbformat_minor": 4
}
