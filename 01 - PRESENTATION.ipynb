{
 "cells": [
  {
   "cell_type": "markdown",
   "metadata": {},
   "source": [
    "# PROJET SMK ANALYSIS - 01 - PRESENTATION"
   ]
  },
  {
   "cell_type": "markdown",
   "metadata": {},
   "source": [
    "<img src=\"smk_01.jpg\">"
   ]
  },
  {
   "cell_type": "markdown",
   "metadata": {},
   "source": [
    "## Présentation du projet"
   ]
  },
  {
   "cell_type": "markdown",
   "metadata": {},
   "source": [
    "L'objectif du projet consiste à analyser des données issues des championnats du monde de Super Mario Kart durant la période 2012-2019, sur le mode de jeu Time Trial."
   ]
  },
  {
   "cell_type": "markdown",
   "metadata": {},
   "source": [
    "Les analyses suivantes seront effectuées:\n",
    "- Distribution des temps globaux réalisés aux championnats du monde de Super Mario Kart entre 2012 et 2019.\n",
    "- Distribution plus détaillée (Top 16 Group Stage, Top 8 Group Stage,Final Phase -> distribution globale et distribution par circuit analysé).\n",
    "- Analyse des min, max et mean concernant les chronos sur les différents circuits.\n",
    "- Focus sur la position des participants durant les différentes Phases (Group Stage, Top 16, Quarterfinals, Semifinals, Match for 3rd Place, Final).\n",
    "- Analyse de la représentation par pays/continents."
   ]
  },
  {
   "cell_type": "markdown",
   "metadata": {},
   "source": [
    "Les différents outils qui ont été utilisés ici sont les suivants:\n",
    "- Python\n",
    "- Pandas Dataframes\n",
    "- Numpy\n",
    "- Matplotlib\n",
    "- Seaborn\n",
    "- Datetime\n",
    "- Github\n",
    "- Excel\n",
    "- Notepad ++"
   ]
  },
  {
   "cell_type": "markdown",
   "metadata": {},
   "source": [
    "#### Le championnat de Super Mario Kart, c'est quoi ?\n",
    "Il s'agit d'un championnat fondé à l'origine par une communauté française de joueurs sur le jeu Super Mario Kart, sorti sur Super Nintendo en 1992 au Japon/US, et en 1993 en Europe.\n",
    "Le premier championnat est organisé en 2002, mais ne deviendra un championnat du monde qu'à partir de 2009.\n",
    "\n",
    "4 modes de jeu sont disputés lors des championnats:\n",
    "- Mode Time Trial: Mode basé sur les records de temps.\n",
    "- Mode Match Race: Affrontement sur circuits en 1 contre 1\n",
    "- Mode Battle: Affrontement en 1 v 1 dont le but et d'éclater les 3 ballons dont l'adversaire dispose.\n",
    "- Mode Grand Prix 150cc (Affrontement en 1 v 1 sur des coupes, avec une IA pour compléter le reste des participants).\n",
    "\n",
    "Ici, l'analyse va se porter sur le mode Time Trial (période 2012-2019)."
   ]
  },
  {
   "cell_type": "markdown",
   "metadata": {},
   "source": [
    "#### Quelles sont les règles du mode Time Trial ?\n",
    "\n",
    "Règles 2012 à 2018: \n",
    "- Il y a tout d'abord une phase de poule (Group Stage): Chaque joueur dispose d'une seule tentative pour réaliser un chrono sur les 20 circuits du jeu (One-Try system).\n",
    "- Les circuits sont tirés de manière aléatoire.\n",
    "- En fonction du temps réalisé par chacun des participants, chaque joueur marque un certain nombre de points. Plus sa position par rapport aux autres est élevée, plus il marque de points.\n",
    "- A la fin des 20 circuits, les points sont comptabilisés, et les 16 meilleurs joueurs se qualifient pour le top 16.\n",
    "\n",
    "Phases finales (Top 16 aux demi-finales)\n",
    "- 2 circuits sont tirés au sort.\n",
    "- Ici, c'est le cumul des temps(total time) sur les circuits qui importe pour se qualifier.\n",
    "\n",
    "Finale et Match pour la 3ème place:\n",
    "- 1 circuit est tiré au sort, le meilleur l'emporte."
   ]
  },
  {
   "cell_type": "markdown",
   "metadata": {},
   "source": [
    "Règles 2019:\n",
    "- Les règles en phase de poule sont les mêmes, ce sont les règles en phase finale qui diffèrent.\n",
    "- En phase finale, on tire à chaque fois un circuit au sort, et le moins bon temps est éliminé, et ceci jusqu'à la finale."
   ]
  },
  {
   "cell_type": "markdown",
   "metadata": {},
   "source": [
    "### DATA ANALYSIS\n",
    "Vous pouvez accéder aux différentes analyses effectuées en cliquant sur les liens ci-dessous:\n",
    "\n",
    "[Distribution des temps globaux réalisés aux championnats du monde de Super Mario Kart entre 2012 et 2019.](https://github.com/PierreCoste-lab/blog_smk_stats/blob/main/02 - GLOBAL DISTRIBUTION.ipynb)<br>\n",
    "[Distribution des temps pour le top 16 des phases de poule](https://github.com/PierreCoste-lab/blog_smk_stats/blob/main/03 - TOP 16 GROUPE STAGE DISTRIBUTION.ipynb)<br>\n",
    "[Distribution des temps pour le top 8 des phases de poule](https://github.com/PierreCoste-lab/blog_smk_stats/blob/main/03 - TOP-8-GROUPE-STAGE-DISTRIBUTION.ipynb)<br>\n",
    "[Distribution des temps en phase finale](https://github.com/PierreCoste-lab/blog_smk_stats/blob/main/05 - FINAL PHASE DISTRIBUTION.ipynb)<br>\n",
    "[Stats min/max et mean](https://github.com/PierreCoste-lab/blog_smk_stats/blob/main/06 - MIN MAX MEAN STATS.ipynb)<br>\n",
    "[Analyse sur le classement des différents joueurs durant les différentes phases](https://github.com/PierreCoste-lab/blog_smk_stats/blob/main/07 - PLAYERS FOCUS - POSITION PER YEAR.ipynb)<br>\n",
    "[Analyse de la représentation des joueurs par pays/continents.](https://github.com/PierreCoste-lab/blog_smk_stats/blob/main/08 - COUNTRY REPRESENTATION.ipynb)<br>"
   ]
  },
  {
   "cell_type": "code",
   "execution_count": null,
   "metadata": {},
   "outputs": [],
   "source": []
  }
 ],
 "metadata": {
  "kernelspec": {
   "display_name": "Python 3",
   "language": "python",
   "name": "python3"
  },
  "language_info": {
   "codemirror_mode": {
    "name": "ipython",
    "version": 3
   },
   "file_extension": ".py",
   "mimetype": "text/x-python",
   "name": "python",
   "nbconvert_exporter": "python",
   "pygments_lexer": "ipython3",
   "version": "3.8.3"
  }
 },
 "nbformat": 4,
 "nbformat_minor": 4
}
